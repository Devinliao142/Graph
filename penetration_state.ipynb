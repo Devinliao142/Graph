{
 "cells": [
  {
   "cell_type": "code",
   "execution_count": 1,
   "metadata": {},
   "outputs": [
    {
     "data": {
      "text/html": [
       "<script>requirejs.config({paths: { 'plotly': ['https://cdn.plot.ly/plotly-latest.min']},});if(!window.Plotly) {{require(['plotly'],function(plotly) {window.Plotly=plotly;});}}</script>"
      ],
      "text/vnd.plotly.v1+html": [
       "<script>requirejs.config({paths: { 'plotly': ['https://cdn.plot.ly/plotly-latest.min']},});if(!window.Plotly) {{require(['plotly'],function(plotly) {window.Plotly=plotly;});}}</script>"
      ]
     },
     "metadata": {},
     "output_type": "display_data"
    }
   ],
   "source": [
    "import numpy as np\n",
    "import pandas as pd\n",
    "\n",
    "import plotly\n",
    "from plotly.offline import init_notebook_mode, plot, iplot\n",
    "import plotly.graph_objs as go\n",
    "from plotly import tools\n",
    "import plotly.figure_factory as ff\n",
    "\n",
    "import matplotlib\n",
    "%matplotlib inline\n",
    "import matplotlib.pyplot as plt\n",
    "import seaborn as sns\n",
    "sns.set(color_codes=True)\n",
    "\n",
    "init_notebook_mode(connected=True)"
   ]
  },
  {
   "cell_type": "code",
   "execution_count": 2,
   "metadata": {},
   "outputs": [],
   "source": [
    "total = [3779274,554867,5382780,2298739,30476517,4345321,2844358,757455,569480,16782417,7914681,\n",
    "    1121794,1273151,9904838,5093409,2413764,2200585,3443650,3575930,1083273,4704671,5489864,\n",
    "    7785662,4277949,2270533,4730561,821604,1444343,2312576,1084022,7026626,1599980,15694902,\n",
    "    7971073,579621,9053374,2971579,3269157,10141022,852307,3919695,654810,5208482,20938557,2175134,\n",
    "    506832,6600844,5759927,1446139,4512839,442832]\n",
    "\n",
    "vec = ['AL','AK','AZ','AR','CA','CO','CT','DE','DC','FL','GA','HI','ID','IL','IN',\n",
    "    'IA','KS','KY','LA','ME','MD','MA','MI','MN','MS','MO','MT','NE','NV','NH','NJ',\n",
    "    'NM','NY','NC','ND','OH','OK','OR','PA','RI','SC','SD','TN','TX','UT','VT','VA',\n",
    "    'WA','WV','WI','WY']\n",
    "dic = {k:v for k,v in zip(vec, total)}\n",
    "\n",
    "dframe = pd.read_csv('state_users.dat', sep=',', names=['state', 'cnt'])"
   ]
  },
  {
   "cell_type": "code",
   "execution_count": 3,
   "metadata": {},
   "outputs": [],
   "source": [
    "state_codes = {\n",
    "    'WA': '53', 'DE': '10', 'DC': '11', 'WI': '55', 'WV': '54', 'HI': '15',\n",
    "    'FL': '12', 'WY': '56', 'PR': '72', 'NJ': '34', 'NM': '35', 'TX': '48',\n",
    "    'LA': '22', 'NC': '37', 'ND': '38', 'NE': '31', 'TN': '47', 'NY': '36',\n",
    "    'PA': '42', 'AK': '02', 'NV': '32', 'NH': '33', 'VA': '51', 'CO': '08',\n",
    "    'CA': '06', 'AL': '01', 'AR': '05', 'VT': '50', 'IL': '17', 'GA': '13',\n",
    "    'IN': '18', 'IA': '19', 'MA': '25', 'AZ': '04', 'ID': '16', 'CT': '09',\n",
    "    'ME': '23', 'MD': '24', 'OK': '40', 'OH': '39', 'UT': '49', 'MO': '29',\n",
    "    'MN': '27', 'MI': '26', 'RI': '44', 'KS': '20', 'MT': '30', 'MS': '28',\n",
    "    'SC': '45', 'KY': '21', 'OR': '41', 'SD': '46'\n",
    "}\n",
    "\n",
    "code_states = {v:k for (k,v) in state_codes.items()}"
   ]
  },
  {
   "cell_type": "code",
   "execution_count": 4,
   "metadata": {},
   "outputs": [],
   "source": [
    "## Divisions with states\n",
    "new_england = ['CT', 'ME', 'MA', 'NH', 'RI', 'VT']\n",
    "mid_atlantic = ['NJ', 'NY', 'PA']\n",
    "east_north_central = ['IN', 'IL', 'MI', 'OH', 'WI']\n",
    "west_north_central = ['IA', 'KS', 'MN', 'MO', 'NE', 'ND', 'SD']\n",
    "south_atlantic = ['DE', 'DC', 'FL', 'GA', 'MD', 'NC', 'SC', 'VA', 'WV']\n",
    "east_south_central = ['AL', 'KY', 'MS', 'TN']\n",
    "west_south_central = ['AR', 'LA', 'OK', 'TX']\n",
    "mountain = ['AZ', 'CO', 'ID', 'NM', 'MT', 'UT', 'NV', 'WY']\n",
    "pacific = ['CA', 'OR', 'WA','AK', 'HI']\n",
    "\n",
    "states = new_england + mid_atlantic + east_north_central + west_north_central + south_atlantic + \\\n",
    "    east_south_central + west_south_central + mountain + pacific\n",
    "    \n",
    "dframe['status'] = dframe['state'].apply(lambda x: (str(x).startswith('region') and x[-2:] in states)) \n",
    "dframe['status1'] = dframe['state'].apply(lambda x: (str(x).startswith('region') and x[-2:] in code_states)) \n",
    "df = dframe[dframe.status==1]\n",
    "data = dframe[dframe.status1==1]\n",
    "df['code'] = df['state'].apply(lambda x: x[-2:])\n",
    "data['code'] = data['state'].apply(lambda x: code_states[x[-2:]])"
   ]
  },
  {
   "cell_type": "code",
   "execution_count": 5,
   "metadata": {},
   "outputs": [],
   "source": [
    "df = df.merge(data, on='code', how='inner')\n",
    "df['cnt'] = df['cnt_x'] + df['cnt_y']\n",
    "df['total'] = df['code'].apply(lambda x: dic[x])\n",
    "df['pct'] = df['cnt'].astype(float)/df['total']\n",
    "df['pct'] = np.where(df['pct']<=1.0, df['pct'], 1.0 )"
   ]
  },
  {
   "cell_type": "code",
   "execution_count": 7,
   "metadata": {},
   "outputs": [
    {
     "data": {
      "text/plain": [
       "'file:///Users/peizhoul/Documents/Python/Dash/us-map.html'"
      ]
     },
     "execution_count": 7,
     "metadata": {},
     "output_type": "execute_result"
    }
   ],
   "source": [
    "#scl = [[0.0, 'rgb(242,240,247)'],[0.2, 'rgb(218,218,235)'],[0.4, 'rgb(188,189,220)'],\\\n",
    "#            [0.6, 'rgb(158,154,200)'],[0.8, 'rgb(117,107,177)'],[1.0, 'rgb(84,39,143)']]\n",
    "\n",
    "scl = [[0.0, 'rgb(165,0,38)'], [0.1111111111111111, 'rgb(215,48,39)'], [0.2222222222222222, 'rgb(244,109,67)'],\n",
    "        [0.3333333333333333, 'rgb(253,174,97)'], [0.4444444444444444, 'rgb(254,224,144)'], [0.5555555555555556, 'rgb(224,243,248)'],\n",
    "        [0.6666666666666666, 'rgb(171,217,233)'],[0.7777777777777778, 'rgb(116,173,209)'], [0.8888888888888888, 'rgb(69,117,180)'],\n",
    "        [1.0, 'rgb(49,54,149)']]\n",
    "\n",
    "df['text'] = df['code'] + '<br>' + df['pct'].astype(str)\n",
    "\n",
    "data = [ dict(\n",
    "        type='choropleth',\n",
    "        colorscale = scl,\n",
    "        autocolorscale = False,\n",
    "        locations = df['code'],\n",
    "        z = df['pct'],\n",
    "        locationmode = 'USA-states',\n",
    "        text = df['text'],\n",
    "        marker = dict(\n",
    "            line = dict (\n",
    "                color = 'rgb(255,255,255)',\n",
    "                width = 2\n",
    "            ) ),\n",
    "        colorbar = dict(\n",
    "            title = \"Percentage\")\n",
    "        ) ]\n",
    "\n",
    "layout = dict(\n",
    "        title = 'Penetration by State',\n",
    "        geo = dict(\n",
    "            scope='usa',\n",
    "            projection=dict( type='albers usa' ),\n",
    "            showlakes = True,\n",
    "            lakecolor = 'rgb(255, 255, 255)'),\n",
    "             )\n",
    "    \n",
    "fig = dict( data=data, layout=layout )\n",
    "plot( fig, filename='us-map.html')"
   ]
  }
 ],
 "metadata": {
  "kernelspec": {
   "display_name": "Python 2",
   "language": "python",
   "name": "python2"
  },
  "language_info": {
   "codemirror_mode": {
    "name": "ipython",
    "version": 2
   },
   "file_extension": ".py",
   "mimetype": "text/x-python",
   "name": "python",
   "nbconvert_exporter": "python",
   "pygments_lexer": "ipython2",
   "version": "2.7.14"
  }
 },
 "nbformat": 4,
 "nbformat_minor": 2
}
