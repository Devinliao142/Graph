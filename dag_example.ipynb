{
 "cells": [
  {
   "cell_type": "code",
   "execution_count": 1,
   "metadata": {},
   "outputs": [],
   "source": [
    "import pygraphviz as pgv\n",
    "from IPython.display import Image"
   ]
  },
  {
   "cell_type": "code",
   "execution_count": 2,
   "metadata": {},
   "outputs": [],
   "source": [
    "def draw(dot):\n",
    "    return Image(pgv.AGraph(dot).draw(format='png', prog='dot'))"
   ]
  },
  {
   "cell_type": "code",
   "execution_count": 21,
   "metadata": {},
   "outputs": [],
   "source": [
    "g1 = \"\"\"digraph {\n",
    "  node [    fill=cornflowerblue,\n",
    "            fontcolor=navy,\n",
    "            shape=box,\n",
    "            style=filled];\n",
    "\n",
    "  Step1 [   color=darkgoldenrod2,\n",
    "            fontcolor=navy,\n",
    "            label=forecast_input_daily,\n",
    "            shape=diamond];\n",
    "\n",
    "  Step2a [   style=filled,\n",
    "            fillcolor=grey80,\n",
    "            color=grey80,\n",
    "            shape=circle,\n",
    "            label=forecast_input;\n",
    "            fontcolor=navy] ;\n",
    "\n",
    "  Step2b [  style=filled,\n",
    "            fillcolor=grey80,\n",
    "            color=grey80,\n",
    "            shape=circle,\n",
    "            label=ad_event;\n",
    "            fontcolor=navy];\n",
    "            \n",
    "  Step2  [  label=inventory_forecast] ;\n",
    "            \n",
    "  Step3  [  label=pro_type_mappings];\n",
    "            \n",
    "  Step3a  [  label=dir_pv];\n",
    "  \n",
    "  Step3b  [  label=pho_br_pv];\n",
    "  \n",
    "  Step3c  [  label=ban_pv];\n",
    "  \n",
    "  Step3d  [  label=wizard_lead];\n",
    "  \n",
    "  Step4a   [  label=ads_inventory] ;\n",
    "  \n",
    "  Step4b   [  label=package_delivery] ;\n",
    "  \n",
    "  Step5   [  label=package_booking] ;\n",
    "            \n",
    "  Step6   [  label=market_adjust] ;\n",
    "  \n",
    "  Step7a   [  label=booking_adjusted,\n",
    "              color=darkgoldenrod2,\n",
    "              fontcolor=navy,\n",
    "              shape=diamond] ;\n",
    "  \n",
    "  Step7b   [  label=inventory_availability,\n",
    "              color=darkgoldenrod2,\n",
    "              fontcolor=navy,\n",
    "              shape=diamond] ;\n",
    "  \n",
    "  Step1  -> Step2a;\n",
    "  Step1  -> Step2b;\n",
    "  Step2a -> Step2 [label=r_script];\n",
    "  Step2b -> Step3;\n",
    "  Step3;\n",
    "  Step2b -> Step3a [label=fraction];\n",
    "  Step2b -> Step3b [label=fraction];\n",
    "  Step2b -> Step3c [label=fraction];\n",
    "  Step1 -> Step3d [label=fraction];\n",
    "  Step3 -> Step3b;\n",
    "  \n",
    "  Step2 -> Step4a;\n",
    "  Step3a -> Step4a;\n",
    "  Step3b -> Step4a;\n",
    "  Step3c -> Step4a;\n",
    "  Step3d -> Step4a;\n",
    "  Step2b -> Step4b [label=c2_tables];\n",
    "  \n",
    "  Step4a -> Step5;\n",
    "  Step4b -> Step5;\n",
    "  \n",
    "  Step4a -> Step6;\n",
    "  Step5 -> Step6;\n",
    "  \n",
    "  Step5 -> Step7a;\n",
    "  Step6 -> Step7a;\n",
    "  \n",
    "  Step4a -> Step7b;\n",
    "  Step5 -> Step7b;\n",
    "}\"\"\""
   ]
  },
  {
   "cell_type": "code",
   "execution_count": 36,
   "metadata": {},
   "outputs": [
    {
     "ename": "NameError",
     "evalue": "name 'dot' is not defined",
     "output_type": "error",
     "traceback": [
      "\u001b[0;31m---------------------------------------------------------------------------\u001b[0m",
      "\u001b[0;31mNameError\u001b[0m                                 Traceback (most recent call last)",
      "\u001b[0;32m<ipython-input-36-56fe62fce234>\u001b[0m in \u001b[0;36m<module>\u001b[0;34m()\u001b[0m\n\u001b[0;32m----> 1\u001b[0;31m \u001b[0mimg\u001b[0m \u001b[0;34m=\u001b[0m \u001b[0mImage\u001b[0m\u001b[0;34m(\u001b[0m\u001b[0mpgv\u001b[0m\u001b[0;34m.\u001b[0m\u001b[0mAGraph\u001b[0m\u001b[0;34m(\u001b[0m\u001b[0mdot\u001b[0m\u001b[0;34m)\u001b[0m\u001b[0;34m.\u001b[0m\u001b[0mdraw\u001b[0m\u001b[0;34m(\u001b[0m\u001b[0mformat\u001b[0m\u001b[0;34m=\u001b[0m\u001b[0;34m'png'\u001b[0m\u001b[0;34m,\u001b[0m \u001b[0mprog\u001b[0m\u001b[0;34m=\u001b[0m\u001b[0;34m'dot'\u001b[0m\u001b[0;34m)\u001b[0m\u001b[0;34m,\u001b[0m \u001b[0membed\u001b[0m\u001b[0;34m=\u001b[0m\u001b[0mTrue\u001b[0m\u001b[0;34m)\u001b[0m\u001b[0;34m\u001b[0m\u001b[0m\n\u001b[0m\u001b[1;32m      2\u001b[0m \u001b[0mdraw\u001b[0m\u001b[0;34m(\u001b[0m\u001b[0mg1\u001b[0m\u001b[0;34m)\u001b[0m\u001b[0;34m\u001b[0m\u001b[0m\n",
      "\u001b[0;31mNameError\u001b[0m: name 'dot' is not defined"
     ]
    }
   ],
   "source": [
    "img = Image(pgv.AGraph(dot).draw(format='png', prog='dot'), embed=True)\n",
    "draw(g1)"
   ]
  },
  {
   "cell_type": "code",
   "execution_count": 25,
   "metadata": {},
   "outputs": [
    {
     "ename": "AttributeError",
     "evalue": "'Image' object has no attribute 'get_png'",
     "output_type": "error",
     "traceback": [
      "\u001b[0;31m---------------------------------------------------------------------------\u001b[0m",
      "\u001b[0;31mAttributeError\u001b[0m                            Traceback (most recent call last)",
      "\u001b[0;32m<ipython-input-25-86eb0ab49f05>\u001b[0m in \u001b[0;36m<module>\u001b[0;34m()\u001b[0m\n\u001b[1;32m      1\u001b[0m \u001b[0mimg\u001b[0m \u001b[0;34m=\u001b[0m \u001b[0mImage\u001b[0m\u001b[0;34m(\u001b[0m\u001b[0mpgv\u001b[0m\u001b[0;34m.\u001b[0m\u001b[0mAGraph\u001b[0m\u001b[0;34m(\u001b[0m\u001b[0mg1\u001b[0m\u001b[0;34m)\u001b[0m\u001b[0;34m.\u001b[0m\u001b[0mdraw\u001b[0m\u001b[0;34m(\u001b[0m\u001b[0mformat\u001b[0m\u001b[0;34m=\u001b[0m\u001b[0;34m'png'\u001b[0m\u001b[0;34m,\u001b[0m \u001b[0mprog\u001b[0m\u001b[0;34m=\u001b[0m\u001b[0;34m'dot'\u001b[0m\u001b[0;34m)\u001b[0m\u001b[0;34m)\u001b[0m\u001b[0;34m\u001b[0m\u001b[0m\n\u001b[1;32m      2\u001b[0m \u001b[0;32mwith\u001b[0m \u001b[0mopen\u001b[0m\u001b[0;34m(\u001b[0m\u001b[0;34m\"v2_i18n.png\"\u001b[0m\u001b[0;34m,\u001b[0m \u001b[0;34m\"wb\"\u001b[0m\u001b[0;34m)\u001b[0m \u001b[0;32mas\u001b[0m \u001b[0mpng\u001b[0m\u001b[0;34m:\u001b[0m\u001b[0;34m\u001b[0m\u001b[0m\n\u001b[0;32m----> 3\u001b[0;31m     \u001b[0mpng\u001b[0m\u001b[0;34m.\u001b[0m\u001b[0mwrite\u001b[0m\u001b[0;34m(\u001b[0m\u001b[0mimg\u001b[0m\u001b[0;34m.\u001b[0m\u001b[0mget_png\u001b[0m\u001b[0;34m(\u001b[0m\u001b[0;34m)\u001b[0m\u001b[0;34m)\u001b[0m\u001b[0;34m\u001b[0m\u001b[0m\n\u001b[0m",
      "\u001b[0;31mAttributeError\u001b[0m: 'Image' object has no attribute 'get_png'"
     ]
    }
   ],
   "source": [
    "img = Image(pgv.AGraph(g1).draw(format='png', prog='dot'))\n",
    "with open(\"v2_i18n.png\", \"wb\") as png:\n",
    "    png.write(img.get_png())"
   ]
  },
  {
   "cell_type": "code",
   "execution_count": 33,
   "metadata": {},
   "outputs": [],
   "source": [
    "?Image"
   ]
  },
  {
   "cell_type": "code",
   "execution_count": null,
   "metadata": {},
   "outputs": [],
   "source": []
  }
 ],
 "metadata": {
  "kernelspec": {
   "display_name": "Python 2",
   "language": "python",
   "name": "python2"
  },
  "language_info": {
   "codemirror_mode": {
    "name": "ipython",
    "version": 2
   },
   "file_extension": ".py",
   "mimetype": "text/x-python",
   "name": "python",
   "nbconvert_exporter": "python",
   "pygments_lexer": "ipython2",
   "version": "2.7.15"
  },
  "toc": {
   "base_numbering": 1,
   "nav_menu": {},
   "number_sections": true,
   "sideBar": true,
   "skip_h1_title": false,
   "title_cell": "Table of Contents",
   "title_sidebar": "Contents",
   "toc_cell": false,
   "toc_position": {},
   "toc_section_display": true,
   "toc_window_display": false
  },
  "varInspector": {
   "cols": {
    "lenName": 16,
    "lenType": 16,
    "lenVar": 40
   },
   "kernels_config": {
    "python": {
     "delete_cmd_postfix": "",
     "delete_cmd_prefix": "del ",
     "library": "var_list.py",
     "varRefreshCmd": "print(var_dic_list())"
    },
    "r": {
     "delete_cmd_postfix": ") ",
     "delete_cmd_prefix": "rm(",
     "library": "var_list.r",
     "varRefreshCmd": "cat(var_dic_list()) "
    }
   },
   "types_to_exclude": [
    "module",
    "function",
    "builtin_function_or_method",
    "instance",
    "_Feature"
   ],
   "window_display": false
  }
 },
 "nbformat": 4,
 "nbformat_minor": 2
}
